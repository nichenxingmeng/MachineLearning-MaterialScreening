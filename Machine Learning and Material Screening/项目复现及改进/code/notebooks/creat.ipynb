{
 "cells": [
  {
   "cell_type": "code",
   "execution_count": 2,
   "metadata": {},
   "outputs": [],
   "source": [
    "import tifffile\n",
    "import numpy as np\n",
    "import h5py"
   ]
  },
  {
   "cell_type": "code",
   "execution_count": 3,
   "metadata": {},
   "outputs": [
    {
     "ename": "IndentationError",
     "evalue": "expected an indented block (<ipython-input-3-6d05ee392cac>, line 2)",
     "output_type": "error",
     "traceback": [
      "\u001b[1;36m  File \u001b[1;32m\"<ipython-input-3-6d05ee392cac>\"\u001b[1;36m, line \u001b[1;32m2\u001b[0m\n\u001b[1;33m    img = tifffile.imread(r'C:\\Users\\qazxd\\Desktop\\数据集tif格式\\training_images_tif\\train_'+str(i)+'.tif')\u001b[0m\n\u001b[1;37m      ^\u001b[0m\n\u001b[1;31mIndentationError\u001b[0m\u001b[1;31m:\u001b[0m expected an indented block\n"
     ]
    }
   ],
   "source": [
    "for i in range(0,600,1):\n",
    "img = tifffile.imread(r'C:\\Users\\qazxd\\Desktop\\数据集tif格式\\training_images_tif\\train_'+str(i)+'.tif')\n",
    "f = h5py.File(r'C:\\Users\\qazxd\\Desktop\\数据集tif格式\\training_images\\train_'+str(i)+'.hdf5','w')\n",
    "f.create_dataset('data',data=img,dtype='i8',compression='gzip')\n",
    "f.close()"
   ]
  },
  {
   "cell_type": "code",
   "execution_count": null,
   "metadata": {},
   "outputs": [],
   "source": []
  }
 ],
 "metadata": {
  "kernelspec": {
   "display_name": "Python 3",
   "language": "python",
   "name": "python3"
  },
  "language_info": {
   "codemirror_mode": {
    "name": "ipython",
    "version": 3
   },
   "file_extension": ".py",
   "mimetype": "text/x-python",
   "name": "python",
   "nbconvert_exporter": "python",
   "pygments_lexer": "ipython3",
   "version": "3.7.9"
  }
 },
 "nbformat": 4,
 "nbformat_minor": 4
}
