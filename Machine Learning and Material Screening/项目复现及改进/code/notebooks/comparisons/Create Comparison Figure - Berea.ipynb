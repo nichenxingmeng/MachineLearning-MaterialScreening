{
 "cells": [
  {
   "cell_type": "code",
   "execution_count": 1,
   "metadata": {},
   "outputs": [],
   "source": [
    "import numpy as np\n",
    "import tifffile\n",
    "import matplotlib.pyplot as plt\n",
    "%matplotlib inline"
   ]
  },
  {
   "cell_type": "code",
   "execution_count": 3,
   "metadata": {},
   "outputs": [],
   "source": [
    "sampled_images = []\n",
    "for i in range(79,80):\n",
    "    im_in = tifffile.imread(r'D:\\ziyong\\postprocessed\\postprocessed_example_'+str(i)+'.tiff')\n",
    "    sampled_images.append(im_in)\n",
    "\n",
    "#original_images = []\n",
    "#for i in range(0, 7, 1):\n",
    "    #im_in = tifffile.imread(\"../../../data/berea/original/postprocessed/tiff/200/berea_sub_200_\"+str(i)+\".tiff\")\n",
    "    #original_images.append(im_in)"
   ]
  },
  {
   "cell_type": "code",
   "execution_count": 12,
   "metadata": {},
   "outputs": [],
   "source": [
    "sampled_images = []\n",
    "for i in range(799,800):\n",
    "    im_in = tifffile.imread(r'D:\\output\\berea_postprocessed\\postprocessed_example_'+str(i)+'.tiff')\n",
    "    sampled_images.append(im_in)\n",
    "\n",
    "#original_images = []\n",
    "#for i in range(0, 7, 1):\n",
    "    #im_in = tifffile.imread(\"../../../data/berea/original/postprocessed/tiff/200/berea_sub_200_\"+str(i)+\".tiff\")\n",
    "    #original_images.append(im_in)"
   ]
  },
  {
   "cell_type": "code",
   "execution_count": 14,
   "metadata": {
    "scrolled": true
   },
   "outputs": [
    {
     "ename": "IndexError",
     "evalue": "index 4 is out of bounds for axis 0 with size 2",
     "output_type": "error",
     "traceback": [
      "\u001b[1;31m---------------------------------------------------------------------------\u001b[0m",
      "\u001b[1;31mIndexError\u001b[0m                                Traceback (most recent call last)",
      "\u001b[1;32m<ipython-input-14-4515067eba89>\u001b[0m in \u001b[0;36m<module>\u001b[1;34m\u001b[0m\n\u001b[0;32m     56\u001b[0m \u001b[1;33m\u001b[0m\u001b[0m\n\u001b[0;32m     57\u001b[0m \u001b[0max\u001b[0m\u001b[1;33m[\u001b[0m\u001b[1;36m0\u001b[0m\u001b[1;33m,\u001b[0m \u001b[1;36m0\u001b[0m\u001b[1;33m]\u001b[0m\u001b[1;33m.\u001b[0m\u001b[0mset_ylabel\u001b[0m\u001b[1;33m(\u001b[0m\u001b[1;34mr\"$Synthetic \\ Image$\"\u001b[0m\u001b[1;33m)\u001b[0m\u001b[1;33m\u001b[0m\u001b[1;33m\u001b[0m\u001b[0m\n\u001b[1;32m---> 58\u001b[1;33m \u001b[0max\u001b[0m\u001b[1;33m[\u001b[0m\u001b[1;36m4\u001b[0m\u001b[1;33m,\u001b[0m \u001b[1;36m0\u001b[0m\u001b[1;33m]\u001b[0m\u001b[1;33m.\u001b[0m\u001b[0mset_ylabel\u001b[0m\u001b[1;33m(\u001b[0m\u001b[1;34mr\"$Training \\ Image$\"\u001b[0m\u001b[1;33m)\u001b[0m\u001b[1;33m\u001b[0m\u001b[1;33m\u001b[0m\u001b[0m\n\u001b[0m\u001b[0;32m     59\u001b[0m \u001b[1;33m\u001b[0m\u001b[0m\n\u001b[0;32m     60\u001b[0m \u001b[0mplt\u001b[0m\u001b[1;33m.\u001b[0m\u001b[0msubplots_adjust\u001b[0m\u001b[1;33m(\u001b[0m\u001b[0mwspace\u001b[0m\u001b[1;33m=\u001b[0m\u001b[1;36m0\u001b[0m\u001b[1;33m,\u001b[0m \u001b[0mhspace\u001b[0m\u001b[1;33m=\u001b[0m\u001b[1;36m0\u001b[0m\u001b[1;33m)\u001b[0m\u001b[1;33m\u001b[0m\u001b[1;33m\u001b[0m\u001b[0m\n",
      "\u001b[1;31mIndexError\u001b[0m: index 4 is out of bounds for axis 0 with size 2"
     ]
    },
    {
     "data": {
      "image/png": "[encoded data removed]",
      "text/plain": [
       "<Figure size 720x720 with 4 Axes>"
      ]
     },
     "metadata": {},
     "output_type": "display_data"
    }
   ],
   "source": [
    "fig, ax = plt.subplots(2, 2, figsize=(10, 10))\n",
    "#fig.subplots_adjust(hspace=0, wspace=0)\n",
    "z = 10\n",
    "\n",
    "for i in range(0, 1):\n",
    "    img = ax[0, i].imshow(sampled_images[i][:, :, z], interpolation='nearest', cmap=\"Greys\")\n",
    "#for i in range(10, 20):\n",
    "    #img = ax[1, i-10].imshow(sampled_images[i][:, :, z], interpolation='nearest', cmap=\"Greys\")\n",
    "#for i in range(20, 30):\n",
    "    #img = ax[2, i-20].imshow(sampled_images[i][:, :, z], interpolation='nearest', cmap=\"Greys\")\n",
    "#for i in range(30, 40):\n",
    "    #img = ax[3, i-30].imshow(sampled_images[i][:, :, z], interpolation='nearest', cmap=\"Greys\")\n",
    "#for i in range(40, 50):\n",
    "    #img = ax[4, i-40].imshow(sampled_images[i][:, :, z], interpolation='nearest', cmap=\"Greys\")\n",
    "#for i in range(50, 60):\n",
    "    #img = ax[5, i-50].imshow(sampled_images[i][:, :, z], interpolation='nearest', cmap=\"Greys\")\n",
    "#for i in range(60, 70):\n",
    "    #img = ax[6, i-60].imshow(sampled_images[i][:, :, z], interpolation='nearest', cmap=\"Greys\")\n",
    "#for i in range(70, 80):\n",
    "    #img = ax[7, i-70].imshow(sampled_images[i][:, :, z], interpolation='nearest', cmap=\"Greys\")\n",
    "#for i in range(80, 90):\n",
    "    #img = ax[8, i-80].imshow(sampled_images[i][:, :, z], interpolation='nearest', cmap=\"Greys\")\n",
    "#for i in range(90, 100):\n",
    "    #img = ax[9, i-90].imshow(sampled_images[i][:, :, z], interpolation='nearest', cmap=\"Greys\")\n",
    "\n",
    "'''for i in range(0, 10):\n",
    "    img = ax[0, i].imshow(sampled_images[i][:, :, z])\n",
    "for i in range(10, 20):\n",
    "    img = ax[1, i-10].imshow(sampled_images[i][:, :, z])\n",
    "for i in range(20, 30):\n",
    "    img = ax[2, i-20].imshow(sampled_images[i][:, :, z])\n",
    "for i in range(30, 40):\n",
    "    img = ax[3, i-30].imshow(sampled_images[i][:, :, z])\n",
    "for i in range(40, 50):\n",
    "    img = ax[4, i-40].imshow(sampled_images[i][:, :, z])\n",
    "for i in range(50, 60):\n",
    "    img = ax[5, i-50].imshow(sampled_images[i][:, :, z])\n",
    "for i in range(60, 70):\n",
    "    img = ax[6, i-60].imshow(sampled_images[i][:, :, z])\n",
    "for i in range(70, 80):\n",
    "    img = ax[7, i-70].imshow(sampled_images[i][:, :, z])\n",
    "for i in range(80, 90):\n",
    "    img = ax[8, i-80].imshow(sampled_images[i][:, :, z])\n",
    "for i in range(90, 100):\n",
    "    img = ax[9, i-90].imshow(sampled_images[i][:, :, z])'''\n",
    "\n",
    "#for j in range(5):\n",
    "    #img = ax[4, j].imshow(original_images[j][:, :, z], interpolation='nearest', cmap=\"Greys\")\n",
    "  \n",
    "for a in ax.flatten():\n",
    "    a.set_xticklabels([])\n",
    "    a.set_yticklabels([])\n",
    "    a.set_aspect('equal')\n",
    "    a.set_xticks([])\n",
    "    a.set_yticks([])\n",
    "\n",
    "ax[0, 0].set_ylabel(r\"$Synthetic \\ Image$\")\n",
    "ax[4, 0].set_ylabel(r\"$Training \\ Image$\")\n",
    "\n",
    "plt.subplots_adjust(wspace=0, hspace=0)\n",
    "\n",
    "plt.axis('off')\n",
    "\n",
    "#fig.savefig(\"../../../paper/figures/berea_comparison.png\", bbox_inches='tight', dpi=300)"
   ]
  },
  {
   "cell_type": "code",
   "execution_count": null,
   "metadata": {},
   "outputs": [],
   "source": []
  }
 ],
 "metadata": {
  "anaconda-cloud": {},
  "kernelspec": {
   "display_name": "Python 3",
   "language": "python",
   "name": "python3"
  },
  "language_info": {
   "codemirror_mode": {
    "name": "ipython",
    "version": 3
   },
   "file_extension": ".py",
   "mimetype": "text/x-python",
   "name": "python",
   "nbconvert_exporter": "python",
   "pygments_lexer": "ipython3",
   "version": "3.7.9"
  }
 },
 "nbformat": 4,
 "nbformat_minor": 1
}
