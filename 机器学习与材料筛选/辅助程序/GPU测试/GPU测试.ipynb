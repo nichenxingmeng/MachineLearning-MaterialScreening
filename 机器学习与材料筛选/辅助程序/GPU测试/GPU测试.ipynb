{
 "cells": [
  {
   "cell_type": "code",
   "execution_count": 2,
   "metadata": {},
   "outputs": [
    {
     "data": {
      "text/plain": [
       "True"
      ]
     },
     "execution_count": 2,
     "metadata": {},
     "output_type": "execute_result"
    }
   ],
   "source": [
    "import torch\n",
    "torch.cuda.is_available()"
   ]
  },
  {
   "cell_type": "code",
   "execution_count": 3,
   "metadata": {},
   "outputs": [
    {
     "data": {
      "text/plain": [
       "1"
      ]
     },
     "execution_count": 3,
     "metadata": {},
     "output_type": "execute_result"
    }
   ],
   "source": [
    "torch.cuda.device_count()"
   ]
  },
  {
   "cell_type": "code",
   "execution_count": 4,
   "metadata": {},
   "outputs": [
    {
     "data": {
      "text/plain": [
       "0"
      ]
     },
     "execution_count": 4,
     "metadata": {},
     "output_type": "execute_result"
    }
   ],
   "source": [
    "torch.cuda.current_device()"
   ]
  },
  {
   "cell_type": "code",
   "execution_count": 1,
   "metadata": {},
   "outputs": [
    {
     "ename": "ModuleNotFoundError",
     "evalue": "No module named 'pynvml'",
     "output_type": "error",
     "traceback": [
      "\u001b[1;31m---------------------------------------------------------------------------\u001b[0m",
      "\u001b[1;31mModuleNotFoundError\u001b[0m                       Traceback (most recent call last)",
      "\u001b[1;32m<ipython-input-1-a34be82d47dd>\u001b[0m in \u001b[0;36m<module>\u001b[1;34m\u001b[0m\n\u001b[0;32m      1\u001b[0m \u001b[1;32mimport\u001b[0m \u001b[0mos\u001b[0m\u001b[1;33m\u001b[0m\u001b[1;33m\u001b[0m\u001b[0m\n\u001b[1;32m----> 2\u001b[1;33m \u001b[1;32mimport\u001b[0m \u001b[0mpynvml\u001b[0m\u001b[1;33m\u001b[0m\u001b[1;33m\u001b[0m\u001b[0m\n\u001b[0m\u001b[0;32m      3\u001b[0m \u001b[1;32mimport\u001b[0m \u001b[0mtorch\u001b[0m\u001b[1;33m\u001b[0m\u001b[1;33m\u001b[0m\u001b[0m\n\u001b[0;32m      4\u001b[0m \u001b[1;33m\u001b[0m\u001b[0m\n\u001b[0;32m      5\u001b[0m \u001b[0mpynvml\u001b[0m\u001b[1;33m.\u001b[0m\u001b[0mnvmlInit\u001b[0m\u001b[1;33m(\u001b[0m\u001b[1;33m)\u001b[0m\u001b[1;33m\u001b[0m\u001b[1;33m\u001b[0m\u001b[0m\n",
      "\u001b[1;31mModuleNotFoundError\u001b[0m: No module named 'pynvml'"
     ]
    }
   ],
   "source": [
    "import os\n",
    "import pynvml\n",
    "import torch\n",
    " \n",
    "pynvml.nvmlInit()\n",
    "\n",
    "def usegpu(need_gpu_count=1):\n",
    "    nouse = []\n",
    "    for index in range(pynvml.nvmlDeviceGetCount()):\n",
    "        # 这里的0是GPU id\n",
    "        handle = pynvml.nvmlDeviceGetHandleByIndex(index)\n",
    "        meminfo = pynvml.nvmlDeviceGetMemoryInfo(handle)\n",
    "        used = meminfo.used / meminfo.total\n",
    "        if used < 0.5:\n",
    "            nouse.append(index)\n",
    "    if len(nouse) >= need_gpu_count:\n",
    "        os.environ[\"CUDA_VISIBLE_DEVICES\"] = ','.join(map(str, nouse[:need_gpu_count]))\n",
    "        for i in nouse[:need_gpu_count]:\n",
    "            torch.cuda.set_device(i)\n",
    "        print(\"use gpu:\"+','.join(map(str, nouse[:need_gpu_count])))\n",
    "        return nouse[:need_gpu_count]\n",
    "    elif len(nouse) > 0:\n",
    "        os.environ[\"CUDA_VISIBLE_DEVICES\"] = ','.join(map(str, nouse))\n",
    "        print(\"use gpu:\" +','.join(map(str, nouse)))\n",
    "        return len(nouse)\n",
    "    else:\n",
    "        return 0\n",
    "\n",
    "if __name__ == '__main__':\n",
    " \n",
    "    gpus = usegpu(need_gpu_count=2)\n",
    " \n",
    "    if gpus:\n",
    "        print(\"use gpu ok\")\n",
    "    else:\n",
    "        print(\"no gpu is valid\")"
   ]
  },
  {
   "cell_type": "code",
   "execution_count": null,
   "metadata": {},
   "outputs": [],
   "source": []
  }
 ],
 "metadata": {
  "kernelspec": {
   "display_name": "Python 3",
   "language": "python",
   "name": "python3"
  },
  "language_info": {
   "codemirror_mode": {
    "name": "ipython",
    "version": 3
   },
   "file_extension": ".py",
   "mimetype": "text/x-python",
   "name": "python",
   "nbconvert_exporter": "python",
   "pygments_lexer": "ipython3",
   "version": "3.7.6"
  }
 },
 "nbformat": 4,
 "nbformat_minor": 4
}
